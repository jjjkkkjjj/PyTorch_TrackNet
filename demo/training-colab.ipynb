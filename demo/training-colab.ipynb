{
  "nbformat": 4,
  "nbformat_minor": 0,
  "metadata": {
    "kernelspec": {
      "display_name": "Python 3",
      "language": "python",
      "name": "python3"
    },
    "language_info": {
      "codemirror_mode": {
        "name": "ipython",
        "version": 3
      },
      "file_extension": ".py",
      "mimetype": "text/x-python",
      "name": "python",
      "nbconvert_exporter": "python",
      "pygments_lexer": "ipython3",
      "version": "3.6.7"
    },
    "colab": {
      "name": "Copy of training.ipynb",
      "provenance": [],
      "include_colab_link": true
    },
    "accelerator": "GPU"
  },
  "cells": [
    {
      "cell_type": "markdown",
      "metadata": {
        "id": "view-in-github",
        "colab_type": "text"
      },
      "source": [
        "<a href=\"https://colab.research.google.com/github/jjjkkkjjj/PyTorch_TrackNet/blob/master/demo/training-colab.ipynb\" target=\"_parent\"><img src=\"https://colab.research.google.com/assets/colab-badge.svg\" alt=\"Open In Colab\"/></a>"
      ]
    },
    {
      "cell_type": "code",
      "metadata": {
        "id": "VabQNBkhbck5",
        "colab_type": "code",
        "outputId": "9fc67c09-8a26-455b-fa69-4be35eeda680",
        "colab": {
          "base_uri": "https://localhost:8080/",
          "height": 122
        }
      },
      "source": [
        "from google.colab import drive\n",
        "drive.mount('/content/drive')"
      ],
      "execution_count": 1,
      "outputs": [
        {
          "output_type": "stream",
          "text": [
            "Go to this URL in a browser: https://accounts.google.com/o/oauth2/auth?client_id=947318989803-6bn6qk8qdgf4n4g3pfee6491hc0brc4i.apps.googleusercontent.com&redirect_uri=urn%3aietf%3awg%3aoauth%3a2.0%3aoob&response_type=code&scope=email%20https%3a%2f%2fwww.googleapis.com%2fauth%2fdocs.test%20https%3a%2f%2fwww.googleapis.com%2fauth%2fdrive%20https%3a%2f%2fwww.googleapis.com%2fauth%2fdrive.photos.readonly%20https%3a%2f%2fwww.googleapis.com%2fauth%2fpeopleapi.readonly\n",
            "\n",
            "Enter your authorization code:\n",
            "··········\n",
            "Mounted at /content/drive\n"
          ],
          "name": "stdout"
        }
      ]
    },
    {
      "cell_type": "code",
      "metadata": {
        "id": "gUUrwO4jblQm",
        "colab_type": "code",
        "outputId": "2f427f49-e186-4afa-b61c-b315c1b9ea18",
        "colab": {
          "base_uri": "https://localhost:8080/",
          "height": 136
        }
      },
      "source": [
        "%cd drive/My\\ Drive/PyTorch_TrackNet/demo\n",
        "!ls"
      ],
      "execution_count": 2,
      "outputs": [
        {
          "output_type": "stream",
          "text": [
            "/content/drive/My Drive/PyTorch_TrackNet/demo\n",
            "pytorch-xla-env-setup.py\n",
            "torch-nightly+20200325-cp36-cp36m-linux_x86_64.whl\n",
            "torchvision-nightly+20200325-cp36-cp36m-linux_x86_64.whl\n",
            "torch_xla-nightly+20200325-cp36-cp36m-linux_x86_64.whl\n",
            "training-colab.ipynb\n",
            "training.ipynb\n"
          ],
          "name": "stdout"
        }
      ]
    },
    {
      "cell_type": "code",
      "metadata": {
        "id": "o5OjcDXibV6_",
        "colab_type": "code",
        "colab": {}
      },
      "source": [
        "%matplotlib inline\n",
        "import sys\n",
        "sys.path.append('../')\n",
        "from models.tracknet import TrackNet\n",
        "from models.train import Trainer\n",
        "from models.loss import CrossEntropy\n",
        "from data.datasets import AllTrackNetTennis\n",
        "from data.transforms import GaussianHeatMap, LossHeatMap\n",
        "\n",
        "from torch.utils.data import DataLoader\n",
        "from torchvision.transforms import *\n",
        "from torch.optim.adadelta import Adadelta"
      ],
      "execution_count": 0,
      "outputs": []
    },
    {
      "cell_type": "code",
      "metadata": {
        "id": "xI5zOijArCH7",
        "colab_type": "code",
        "colab": {
          "base_uri": "https://localhost:8080/",
          "height": 51
        },
        "outputId": "1bb5701f-7dd8-4fe8-9b68-de99f2eb8e20"
      },
      "source": [
        "# Note that when you use google-colab, you should set Config.DATA_ROOT manually (set parent directory of 'tennis_tracknet')\n",
        "\"\"\"\n",
        "directory structure\n",
        "\n",
        "---PyTorch_TrackNet\n",
        " |   |\n",
        " |    --demo --- training-colab.ipynb\n",
        " |\n",
        " --data\n",
        "    |\n",
        "    --tennis_tracknet\n",
        "\n",
        "\"\"\"\n",
        "import os\n",
        "from data.datasets import Config\n",
        "print(Config.DATA_ROOT)\n",
        "Config.DATA_ROOT = os.path.abspath('../../data')\n",
        "print(Config.DATA_ROOT)"
      ],
      "execution_count": 4,
      "outputs": [
        {
          "output_type": "stream",
          "text": [
            "/root/data\n",
            "/content/drive/My Drive/data\n"
          ],
          "name": "stdout"
        }
      ]
    },
    {
      "cell_type": "code",
      "metadata": {
        "id": "k4f0rG-69Obo",
        "colab_type": "code",
        "colab": {
          "base_uri": "https://localhost:8080/",
          "height": 54
        },
        "outputId": "6875dcea-d07d-4e07-8d03-048d93a421d4"
      },
      "source": [
        "# TPU settings but too slow...\n",
        "\"\"\"\n",
        "VERSION = \"20200325\"  #@param [\"1.5\" , \"20200325\", \"nightly\"]\n",
        "!curl https://raw.githubusercontent.com/pytorch/xla/master/contrib/scripts/env-setup.py -o pytorch-xla-env-setup.py\n",
        "!python pytorch-xla-env-setup.py --version $VERSION\n",
        "\"\"\""
      ],
      "execution_count": 5,
      "outputs": [
        {
          "output_type": "execute_result",
          "data": {
            "text/plain": [
              "'\\nVERSION = \"20200325\"  #@param [\"1.5\" , \"20200325\", \"nightly\"]\\n!curl https://raw.githubusercontent.com/pytorch/xla/master/contrib/scripts/env-setup.py -o pytorch-xla-env-setup.py\\n!python pytorch-xla-env-setup.py --version $VERSION\\n'"
            ]
          },
          "metadata": {
            "tags": []
          },
          "execution_count": 5
        }
      ]
    },
    {
      "cell_type": "code",
      "metadata": {
        "id": "349n5sCpbV7B",
        "colab_type": "code",
        "outputId": "ccfc409b-0021-470f-8c5e-d2022ca91696",
        "colab": {
          "base_uri": "https://localhost:8080/",
          "height": 1000
        }
      },
      "source": [
        "transform = Compose([\n",
        "    Resize((360, 640)),\n",
        "    ToTensor()\n",
        "])\n",
        "target_transform = Compose([\n",
        "    GaussianHeatMap((360, 640), sigma2=10, threshold=128),\n",
        "    LossHeatMap(256)\n",
        "])\n",
        "\n",
        "train_dataset = AllTrackNetTennis(seq_num=3, transform=transform, target_transform=target_transform)\n",
        "train_loader = DataLoader(train_dataset,\n",
        "                          batch_size=2,\n",
        "                          shuffle=True)\n",
        "\n",
        "model = TrackNet(image_shape=(360, 640, 3), seq_num=3, batch_norm=True)\n",
        "print(model)"
      ],
      "execution_count": 6,
      "outputs": [
        {
          "output_type": "stream",
          "text": [
            "TrackNet(\n",
            "  (tracknet_layers): ModuleDict(\n",
            "    (conv1_1): Conv2d(9, 64, kernel_size=(3, 3), stride=(1, 1), padding=(1, 1))\n",
            "    (bn1_1): BatchNorm2d(64, eps=1e-05, momentum=0.1, affine=True, track_running_stats=True)\n",
            "    (relu1_1): ReLU(inplace=True)\n",
            "    (conv1_2): Conv2d(64, 64, kernel_size=(3, 3), stride=(1, 1), padding=(1, 1))\n",
            "    (bn1_2): BatchNorm2d(64, eps=1e-05, momentum=0.1, affine=True, track_running_stats=True)\n",
            "    (relu1_2): ReLU(inplace=True)\n",
            "    (pool1): MaxPool2d(kernel_size=(2, 2), stride=(2, 2), padding=0, dilation=1, ceil_mode=False)\n",
            "    (conv2_1): Conv2d(64, 128, kernel_size=(3, 3), stride=(1, 1), padding=(1, 1))\n",
            "    (bn2_1): BatchNorm2d(128, eps=1e-05, momentum=0.1, affine=True, track_running_stats=True)\n",
            "    (relu2_1): ReLU(inplace=True)\n",
            "    (conv2_2): Conv2d(128, 128, kernel_size=(3, 3), stride=(1, 1), padding=(1, 1))\n",
            "    (bn2_2): BatchNorm2d(128, eps=1e-05, momentum=0.1, affine=True, track_running_stats=True)\n",
            "    (relu2_2): ReLU(inplace=True)\n",
            "    (pool2): MaxPool2d(kernel_size=(2, 2), stride=(2, 2), padding=0, dilation=1, ceil_mode=False)\n",
            "    (conv3_1): Conv2d(128, 256, kernel_size=(3, 3), stride=(1, 1), padding=(1, 1))\n",
            "    (bn3_1): BatchNorm2d(256, eps=1e-05, momentum=0.1, affine=True, track_running_stats=True)\n",
            "    (relu3_1): ReLU(inplace=True)\n",
            "    (conv3_2): Conv2d(256, 256, kernel_size=(3, 3), stride=(1, 1), padding=(1, 1))\n",
            "    (bn3_2): BatchNorm2d(256, eps=1e-05, momentum=0.1, affine=True, track_running_stats=True)\n",
            "    (relu3_2): ReLU(inplace=True)\n",
            "    (conv3_3): Conv2d(256, 256, kernel_size=(3, 3), stride=(1, 1), padding=(1, 1))\n",
            "    (bn3_3): BatchNorm2d(256, eps=1e-05, momentum=0.1, affine=True, track_running_stats=True)\n",
            "    (relu3_3): ReLU(inplace=True)\n",
            "    (pool3): MaxPool2d(kernel_size=(2, 2), stride=(2, 2), padding=0, dilation=1, ceil_mode=False)\n",
            "    (conv4_1): Conv2d(256, 512, kernel_size=(3, 3), stride=(1, 1), padding=(1, 1))\n",
            "    (bn4_1): BatchNorm2d(512, eps=1e-05, momentum=0.1, affine=True, track_running_stats=True)\n",
            "    (relu4_1): ReLU(inplace=True)\n",
            "    (conv4_2): Conv2d(512, 512, kernel_size=(3, 3), stride=(1, 1), padding=(1, 1))\n",
            "    (bn4_2): BatchNorm2d(512, eps=1e-05, momentum=0.1, affine=True, track_running_stats=True)\n",
            "    (relu4_2): ReLU(inplace=True)\n",
            "    (conv4_3): Conv2d(512, 512, kernel_size=(3, 3), stride=(1, 1), padding=(1, 1))\n",
            "    (bn4_3): BatchNorm2d(512, eps=1e-05, momentum=0.1, affine=True, track_running_stats=True)\n",
            "    (relu4_3): ReLU(inplace=True)\n",
            "    (upsample5): UpsamplingNearest2d(scale_factor=2.0, mode=nearest)\n",
            "    (deconv5_1): Conv2d(512, 256, kernel_size=(3, 3), stride=(1, 1), padding=(1, 1))\n",
            "    (bn5_1): BatchNorm2d(256, eps=1e-05, momentum=0.1, affine=True, track_running_stats=True)\n",
            "    (relu5_1): ReLU(inplace=True)\n",
            "    (deconv5_2): Conv2d(256, 256, kernel_size=(3, 3), stride=(1, 1), padding=(1, 1))\n",
            "    (bn5_2): BatchNorm2d(256, eps=1e-05, momentum=0.1, affine=True, track_running_stats=True)\n",
            "    (relu5_2): ReLU(inplace=True)\n",
            "    (deconv5_3): Conv2d(256, 256, kernel_size=(3, 3), stride=(1, 1), padding=(1, 1))\n",
            "    (bn5_3): BatchNorm2d(256, eps=1e-05, momentum=0.1, affine=True, track_running_stats=True)\n",
            "    (relu5_3): ReLU(inplace=True)\n",
            "    (upsample6): UpsamplingNearest2d(scale_factor=2.0, mode=nearest)\n",
            "    (deconv6_1): Conv2d(256, 128, kernel_size=(3, 3), stride=(1, 1), padding=(1, 1))\n",
            "    (bn6_1): BatchNorm2d(128, eps=1e-05, momentum=0.1, affine=True, track_running_stats=True)\n",
            "    (relu6_1): ReLU(inplace=True)\n",
            "    (deconv6_2): Conv2d(128, 128, kernel_size=(3, 3), stride=(1, 1), padding=(1, 1))\n",
            "    (bn6_2): BatchNorm2d(128, eps=1e-05, momentum=0.1, affine=True, track_running_stats=True)\n",
            "    (relu6_2): ReLU(inplace=True)\n",
            "    (upsample7): UpsamplingNearest2d(scale_factor=2.0, mode=nearest)\n",
            "    (deconv7_1): Conv2d(128, 64, kernel_size=(3, 3), stride=(1, 1), padding=(1, 1))\n",
            "    (bn7_1): BatchNorm2d(64, eps=1e-05, momentum=0.1, affine=True, track_running_stats=True)\n",
            "    (relu7_1): ReLU(inplace=True)\n",
            "    (deconv7_2): Conv2d(64, 64, kernel_size=(3, 3), stride=(1, 1), padding=(1, 1))\n",
            "    (bn7_2): BatchNorm2d(64, eps=1e-05, momentum=0.1, affine=True, track_running_stats=True)\n",
            "    (relu7_2): ReLU(inplace=True)\n",
            "  )\n",
            "  (feature_layers): ModuleDict(\n",
            "    (conv8): Conv2d(64, 256, kernel_size=(3, 3), stride=(1, 1), padding=(1, 1))\n",
            "    (bn8): BatchNorm2d(256, eps=1e-05, momentum=0.1, affine=True, track_running_stats=True)\n",
            "    (relu8): ReLU(inplace=True)\n",
            "    (softmax): Softmax(dim=1)\n",
            "  )\n",
            "  (heatmap): HeatMap()\n",
            ")\n"
          ],
          "name": "stdout"
        }
      ]
    },
    {
      "cell_type": "code",
      "metadata": {
        "id": "Y4EsOHoTbV7E",
        "colab_type": "code",
        "outputId": "777d3da6-3db9-4289-ef5b-ad3eb2b7a46f",
        "colab": {
          "base_uri": "https://localhost:8080/",
          "height": 34
        }
      },
      "source": [
        "#import torch_xla\n",
        "#import torch_xla.core.xla_model as xm\n",
        "#device = xm.xla_device()\n",
        "import torch\n",
        "device = torch.device('cuda')\n",
        "\n",
        "loss_func = CrossEntropy()\n",
        "optimizer = Adadelta(model.parameters(), lr=1.0)\n",
        "trainer = Trainer(model, loss_func=loss_func, optimizer=optimizer, scheduler=None, device=device, log_interval=10)\n",
        "\n",
        "from models.graph import LiveGraph\n",
        "\n",
        "trainer.train(1000, train_loader, savemodelname='tracknet', checkpoints_epoch_interval=50, live_graph=LiveGraph((0, 0.05)), max_checkpoints=2)"
      ],
      "execution_count": 0,
      "outputs": [
        {
          "output_type": "stream",
          "text": [
            "Training... Epoch: 1, Iter: 258,\t [516/19835\t (3%)]\tLoss: 0.018525"
          ],
          "name": "stdout"
        }
      ]
    },
    {
      "cell_type": "code",
      "metadata": {
        "id": "LwV9SiHjbV7I",
        "colab_type": "code",
        "colab": {}
      },
      "source": [
        ""
      ],
      "execution_count": 0,
      "outputs": []
    }
  ]
}